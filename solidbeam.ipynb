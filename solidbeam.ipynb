{
 "cells": [
  {
   "cell_type": "code",
   "execution_count": null,
   "id": "8ad93275-9381-4ed8-bf8b-bfcb1045ddc5",
   "metadata": {},
   "outputs": [],
   "source": [
    "import os\n",
    "from ansys.mapdl.core import launch_mapdl\n",
    "\n",
    "mapdl = launch_mapdl(additional_switches = '-smp')"
   ]
  },
  {
   "cell_type": "code",
   "execution_count": null,
   "id": "e630c37e-4b4f-4ddd-9b14-941e620dfdfd",
   "metadata": {},
   "outputs": [],
   "source": [
    "working_directory = mapdl.inquire(func='directory')\n",
    "job_name = mapdl.inquire(func='jobname')\n",
    "path = job_name + '.gst'\n",
    "path = os.path.join(working_directory,path)\n",
    "\n",
    "%store path\n",
    "path"
   ]
  },
  {
   "cell_type": "code",
   "execution_count": null,
   "id": "a6084f66-c9a5-4703-bcc7-c0fdbfde2603",
   "metadata": {},
   "outputs": [],
   "source": [
    "mapdl.clear()\n",
    "mapdl.prep7()\n",
    "\n",
    "mapdl.et(1,185)\n",
    "mapdl.mp('ex',1,1e7)\n",
    "mapdl.block(0,12,0,.5,0,1)\n",
    "\n",
    "mapdl.esize(.2)\n",
    "mapdl.vmesh(1)\n",
    "\n",
    "mapdl.nsel('s','loc','x',0)\n",
    "mapdl.d('all','all',0)\n",
    "mapdl.allsel()\n",
    "mapdl.finish()\n"
   ]
  },
  {
   "cell_type": "code",
   "execution_count": null,
   "id": "1b8cb437-cc8e-4333-8b09-7dae83216d01",
   "metadata": {},
   "outputs": [],
   "source": [
    "mapdl.slashsolu()\n",
    "mapdl.nlgeom('on')\n",
    "mapdl.nsubst(10,10,100)\n",
    "mapdl.gst('on','on')\n",
    "mapdl.cnvtol('u',-1)\n",
    "for run in range(1,21):\n",
    "    mapdl.wait(2)\n",
    "    mapdl.time(run)\n",
    "    mapdl.nsel('s','loc','y',0)\n",
    "    mapdl.sf('all','pres',run)\n",
    "    mapdl.allsel()\n",
    "    mapdl.solve()\n",
    "\n",
    "mapdl.finish()"
   ]
  },
  {
   "cell_type": "code",
   "execution_count": null,
   "id": "56e459f6-6eb7-47df-bdc9-c453da3c218c",
   "metadata": {},
   "outputs": [],
   "source": [
    "mapdl.exit()"
   ]
  },
  {
   "cell_type": "code",
   "execution_count": null,
   "id": "216c90d3-2f96-468d-852a-cae63d25c94d",
   "metadata": {},
   "outputs": [],
   "source": []
  }
 ],
 "metadata": {
  "kernelspec": {
   "display_name": "Python 3 (ipykernel)",
   "language": "python",
   "name": "python3"
  },
  "language_info": {
   "codemirror_mode": {
    "name": "ipython",
    "version": 3
   },
   "file_extension": ".py",
   "mimetype": "text/x-python",
   "name": "python",
   "nbconvert_exporter": "python",
   "pygments_lexer": "ipython3",
   "version": "3.9.9"
  }
 },
 "nbformat": 4,
 "nbformat_minor": 5
}
