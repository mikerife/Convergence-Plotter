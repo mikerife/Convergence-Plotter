{
 "cells": [
  {
   "cell_type": "code",
   "execution_count": null,
   "id": "796ce2ff-2172-4aa9-bfac-2f448d7dd739",
   "metadata": {},
   "outputs": [],
   "source": [
    "%matplotlib widget\n",
    "%store -r path\n",
    "\n",
    "''' set to True the values you want to plot\n",
    "If the criteria does not exist it will not be plotted'''\n",
    "\n",
    "FORCES = True\n",
    "DISPLACEMENTS = True\n",
    "\n",
    "plot_delay = 2.5     #in seconds, 2.5 is WB Mech default"
   ]
  },
  {
   "cell_type": "code",
   "execution_count": null,
   "id": "dc70725a-fb41-4bc1-a526-e6797b6729cf",
   "metadata": {},
   "outputs": [],
   "source": [
    "import shutil\n",
    "import os\n",
    "import xml.etree.ElementTree as ET\n",
    "import matplotlib.pyplot as plt\n",
    "from matplotlib.animation import FuncAnimation\n",
    "import numpy as np"
   ]
  },
  {
   "cell_type": "code",
   "execution_count": null,
   "id": "b6711648-4778-4117-89b3-4f55e5ead380",
   "metadata": {},
   "outputs": [],
   "source": [
    "def animate(i):\n",
    "    shutil.copyfile(path,'file.gst')\n",
    "    tree = ET.parse('file.gst')\n",
    "    root = tree.getroot()\n",
    "    global FORCES, DISPLACEMENTS\n",
    "    f_crit = False\n",
    "    u_crit = False\n",
    "    \n",
    "    \n",
    "    for child in root[0][0]:\n",
    "        if str(child.text) == 'Cum Iter':\n",
    "            cum_iter = int(child.attrib[\"ID\"])\n",
    "        elif str(child.text) == 'F   CRIT':\n",
    "            f_crit = int(child.attrib[\"ID\"])\n",
    "        elif str(child.text) == 'F    L2 ':\n",
    "            f_norm = int(child.attrib[\"ID\"])\n",
    "        elif str(child.text) == 'U   CRIT':\n",
    "            u_crit = int(child.attrib[\"ID\"])\n",
    "        elif str(child.text) == 'U    INF':\n",
    "            u_inf = int(child.attrib[\"ID\"])\n",
    "        elif str(child.text) == 'Time':\n",
    "            time = int(child.attrib[\"ID\"])\n",
    "    \n",
    "    FORCES = FORCES * f_crit\n",
    "    DISPLACEMENTS = DISPLACEMENTS * u_crit\n",
    "    print(DISPLACEMENTS)\n",
    "    data_line = ''\n",
    "    \n",
    "    for ls in range(0,len(root[0:])):\n",
    "        for child in root[ls:][0]:\n",
    "            data_line = data_line + child.text\n",
    "    data_line = data_line.split('\\n')\n",
    "\n",
    "    cum_iter_counter = []\n",
    "    force_criteria = []\n",
    "    force_norm = []\n",
    "    displacement_criteria = []\n",
    "    displacement_norm = []\n",
    "    \n",
    "    for c in range(0,len(data_line)):\n",
    "        if data_line[c] != '' and data_line[c] != ' ' :\n",
    "            while '  ' in data_line[c]:\n",
    "                data_line[c] = data_line[c].replace('  ', ' ')\n",
    "            data_line_current = data_line[c].split(' ')\n",
    "            cum_iter_counter.append(float(data_line_current[cum_iter]))\n",
    "            if FORCES:\n",
    "                force_criteria.append(float(data_line_current[f_crit]))\n",
    "                force_norm.append(float(data_line_current[f_norm]))\n",
    "            if DISPLACEMENTS:\n",
    "                displacement_criteria.append(float(data_line_current[u_crit]))\n",
    "                displacement_norm.append(float(data_line_current[u_inf]))\n",
    "    \n",
    "    cum_iter_counter = np.asarray(cum_iter_counter)\n",
    "    force_criteria = np.asarray(force_criteria)\n",
    "    force_norm = np.asarray(force_norm)\n",
    "    displacement_criteria = np.asarray(displacement_criteria)\n",
    "    displacement_norm = np.asarray(displacement_norm)\n",
    "    current_time = float(data_line_current[time])\n",
    "\n",
    "    plt.cla()\n",
    "    plt.title('Time = ' + str(current_time) + ' [sec]', loc = 'center')\n",
    "    plt.yscale(\"log\")\n",
    "    if FORCES:\n",
    "        plt.plot(cum_iter_counter, force_criteria, label = 'Force Crit')\n",
    "        plt.plot(cum_iter_counter, force_norm, label = 'F Norm')\n",
    "    if DISPLACEMENTS:\n",
    "        plt.plot(cum_iter_counter, displacement_criteria, label = 'U Crit')\n",
    "        plt.plot(cum_iter_counter, displacement_norm, label = 'U Norm')\n",
    "    plt.legend(loc = 'upper left')"
   ]
  },
  {
   "cell_type": "code",
   "execution_count": null,
   "id": "4f679720-5ecd-44db-9c68-2a716177223d",
   "metadata": {},
   "outputs": [],
   "source": [
    "ani = FuncAnimation(plt.gcf(), animate, interval = plot_delay*1000)    \n",
    "plt.show()"
   ]
  },
  {
   "cell_type": "code",
   "execution_count": null,
   "id": "e59700e3-e768-48a7-ac06-fdbaa31fb07b",
   "metadata": {},
   "outputs": [],
   "source": []
  }
 ],
 "metadata": {
  "kernelspec": {
   "display_name": "Python 3 (ipykernel)",
   "language": "python",
   "name": "python3"
  },
  "language_info": {
   "codemirror_mode": {
    "name": "ipython",
    "version": 3
   },
   "file_extension": ".py",
   "mimetype": "text/x-python",
   "name": "python",
   "nbconvert_exporter": "python",
   "pygments_lexer": "ipython3",
   "version": "3.9.9"
  }
 },
 "nbformat": 4,
 "nbformat_minor": 5
}
